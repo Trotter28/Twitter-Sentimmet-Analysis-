{
 "cells": [
  {
   "cell_type": "code",
   "execution_count": 1,
   "id": "4bf274a1",
   "metadata": {},
   "outputs": [
    {
     "name": "stderr",
     "output_type": "stream",
     "text": [
      "C:\\Users\\ASUS\\anaconda3\\lib\\site-packages\\scipy\\__init__.py:146: UserWarning: A NumPy version >=1.16.5 and <1.23.0 is required for this version of SciPy (detected version 1.23.2\n",
      "  warnings.warn(f\"A NumPy version >={np_minversion} and <{np_maxversion}\"\n"
     ]
    }
   ],
   "source": [
    "from sklearn.model_selection import train_test_split\n",
    "from sklearn.ensemble import RandomForestClassifier\n",
    "import pandas as pd\n",
    "import numpy as np"
   ]
  },
  {
   "cell_type": "code",
   "execution_count": 2,
   "id": "28bcb408",
   "metadata": {},
   "outputs": [],
   "source": [
    "csv_reg=pd.read_csv('Vader Sentiment Analysis.csv')"
   ]
  },
  {
   "cell_type": "code",
   "execution_count": 3,
   "id": "f98b698e",
   "metadata": {},
   "outputs": [
    {
     "data": {
      "text/html": [
       "<div>\n",
       "<style scoped>\n",
       "    .dataframe tbody tr th:only-of-type {\n",
       "        vertical-align: middle;\n",
       "    }\n",
       "\n",
       "    .dataframe tbody tr th {\n",
       "        vertical-align: top;\n",
       "    }\n",
       "\n",
       "    .dataframe thead th {\n",
       "        text-align: right;\n",
       "    }\n",
       "</style>\n",
       "<table border=\"1\" class=\"dataframe\">\n",
       "  <thead>\n",
       "    <tr style=\"text-align: right;\">\n",
       "      <th></th>\n",
       "      <th>Unnamed: 0</th>\n",
       "      <th>username</th>\n",
       "      <th>neg</th>\n",
       "      <th>neu</th>\n",
       "      <th>pos</th>\n",
       "      <th>compound</th>\n",
       "      <th>Unnamed: 0.1</th>\n",
       "      <th>date</th>\n",
       "      <th>user</th>\n",
       "      <th>tweet_text</th>\n",
       "      <th>Location</th>\n",
       "      <th>coordinates</th>\n",
       "      <th>Unnamed: 7</th>\n",
       "      <th>Sentiment</th>\n",
       "      <th>Score</th>\n",
       "    </tr>\n",
       "  </thead>\n",
       "  <tbody>\n",
       "    <tr>\n",
       "      <th>39606</th>\n",
       "      <td>39606</td>\n",
       "      <td>AnimalProjectGE</td>\n",
       "      <td>0.253</td>\n",
       "      <td>0.648</td>\n",
       "      <td>0.099</td>\n",
       "      <td>-0.5423</td>\n",
       "      <td>13717</td>\n",
       "      <td>2022-03-28 19:24:13+00:00</td>\n",
       "      <td>https://twitter.com/AnimalProjectGE</td>\n",
       "      <td>What a day for #straydogs in #Zugdidi 🇬🇪 aband...</td>\n",
       "      <td>Tbilisi, Georgia</td>\n",
       "      <td>NaN</td>\n",
       "      <td>NaN</td>\n",
       "      <td>negative</td>\n",
       "      <td>0.290977</td>\n",
       "    </tr>\n",
       "    <tr>\n",
       "      <th>49394</th>\n",
       "      <td>49394</td>\n",
       "      <td>omventure</td>\n",
       "      <td>0.000</td>\n",
       "      <td>0.732</td>\n",
       "      <td>0.268</td>\n",
       "      <td>0.8555</td>\n",
       "      <td>11432</td>\n",
       "      <td>2022-04-17 04:52:08+00:00</td>\n",
       "      <td>https://twitter.com/omventure</td>\n",
       "      <td>\"Pain, suffering, grief…can be experienced by ...</td>\n",
       "      <td>A Planet Needing Our Help</td>\n",
       "      <td>NaN</td>\n",
       "      <td>NaN</td>\n",
       "      <td>negative</td>\n",
       "      <td>0.272314</td>\n",
       "    </tr>\n",
       "    <tr>\n",
       "      <th>4370</th>\n",
       "      <td>4370</td>\n",
       "      <td>joe8Zeta7</td>\n",
       "      <td>0.000</td>\n",
       "      <td>0.709</td>\n",
       "      <td>0.291</td>\n",
       "      <td>0.7901</td>\n",
       "      <td>20059</td>\n",
       "      <td>2022-02-03 20:10:24+00:00</td>\n",
       "      <td>https://twitter.com/joe8Zeta7</td>\n",
       "      <td>Speak Out Against Plans for an Intensive Chick...</td>\n",
       "      <td>Italia</td>\n",
       "      <td>NaN</td>\n",
       "      <td>NaN</td>\n",
       "      <td>neutral</td>\n",
       "      <td>0.589853</td>\n",
       "    </tr>\n",
       "    <tr>\n",
       "      <th>27233</th>\n",
       "      <td>27233</td>\n",
       "      <td>SilentBawse</td>\n",
       "      <td>0.357</td>\n",
       "      <td>0.607</td>\n",
       "      <td>0.036</td>\n",
       "      <td>-0.9725</td>\n",
       "      <td>818</td>\n",
       "      <td>2022-07-25 05:42:59+00:00</td>\n",
       "      <td>https://twitter.com/SilentBawse</td>\n",
       "      <td>According to #AnimalRights scheme there isn't ...</td>\n",
       "      <td>Punjab/Pakistan</td>\n",
       "      <td>NaN</td>\n",
       "      <td>NaN</td>\n",
       "      <td>negative</td>\n",
       "      <td>0.365839</td>\n",
       "    </tr>\n",
       "    <tr>\n",
       "      <th>17641</th>\n",
       "      <td>17641</td>\n",
       "      <td>EnviroEdgeNews</td>\n",
       "      <td>0.257</td>\n",
       "      <td>0.595</td>\n",
       "      <td>0.148</td>\n",
       "      <td>-0.5574</td>\n",
       "      <td>54694</td>\n",
       "      <td>2021-03-23 18:28:24+00:00</td>\n",
       "      <td>https://twitter.com/EnviroEdgeNews</td>\n",
       "      <td>DEMAND DEFORESTATION-FREE OLYMPICS! Tokyo Olym...</td>\n",
       "      <td>NaN</td>\n",
       "      <td>NaN</td>\n",
       "      <td>NaN</td>\n",
       "      <td>neutral</td>\n",
       "      <td>0.507675</td>\n",
       "    </tr>\n",
       "    <tr>\n",
       "      <th>8246</th>\n",
       "      <td>8246</td>\n",
       "      <td>Animal_Posting</td>\n",
       "      <td>0.060</td>\n",
       "      <td>0.826</td>\n",
       "      <td>0.114</td>\n",
       "      <td>0.3400</td>\n",
       "      <td>71180</td>\n",
       "      <td>2020-11-16 16:32:12+00:00</td>\n",
       "      <td>https://twitter.com/Animal_Posting</td>\n",
       "      <td>I think #vegetarians who live according to alt...</td>\n",
       "      <td>NaN</td>\n",
       "      <td>NaN</td>\n",
       "      <td>NaN</td>\n",
       "      <td>positive</td>\n",
       "      <td>0.894057</td>\n",
       "    </tr>\n",
       "    <tr>\n",
       "      <th>80200</th>\n",
       "      <td>80200</td>\n",
       "      <td>criticalviews20</td>\n",
       "      <td>0.126</td>\n",
       "      <td>0.667</td>\n",
       "      <td>0.207</td>\n",
       "      <td>0.2960</td>\n",
       "      <td>60800</td>\n",
       "      <td>2021-02-06 03:19:40+00:00</td>\n",
       "      <td>https://twitter.com/criticalviews20</td>\n",
       "      <td>Truly disgusted by @VVD , \\n\\n#AnimalXXX = 🤢🐖🤢...</td>\n",
       "      <td>Davos, Switzerland</td>\n",
       "      <td>NaN</td>\n",
       "      <td>NaN</td>\n",
       "      <td>positive</td>\n",
       "      <td>0.725126</td>\n",
       "    </tr>\n",
       "    <tr>\n",
       "      <th>16191</th>\n",
       "      <td>16191</td>\n",
       "      <td>aktweet20</td>\n",
       "      <td>0.180</td>\n",
       "      <td>0.711</td>\n",
       "      <td>0.109</td>\n",
       "      <td>-0.3612</td>\n",
       "      <td>7234</td>\n",
       "      <td>2022-05-24 13:46:53+00:00</td>\n",
       "      <td>https://twitter.com/aktweet20</td>\n",
       "      <td>The time for Congress to act on horse soring, ...</td>\n",
       "      <td>NaN</td>\n",
       "      <td>NaN</td>\n",
       "      <td>NaN</td>\n",
       "      <td>positive</td>\n",
       "      <td>0.623726</td>\n",
       "    </tr>\n",
       "    <tr>\n",
       "      <th>55197</th>\n",
       "      <td>55197</td>\n",
       "      <td>veganrick</td>\n",
       "      <td>0.000</td>\n",
       "      <td>0.931</td>\n",
       "      <td>0.069</td>\n",
       "      <td>0.4404</td>\n",
       "      <td>41254</td>\n",
       "      <td>2021-07-16 03:59:18+00:00</td>\n",
       "      <td>https://twitter.com/veganrick</td>\n",
       "      <td>Endangered Elk Starve While the National Park ...</td>\n",
       "      <td>Canada🇨🇦</td>\n",
       "      <td>NaN</td>\n",
       "      <td>NaN</td>\n",
       "      <td>positive</td>\n",
       "      <td>0.656538</td>\n",
       "    </tr>\n",
       "    <tr>\n",
       "      <th>78347</th>\n",
       "      <td>78347</td>\n",
       "      <td>barr3aby</td>\n",
       "      <td>0.161</td>\n",
       "      <td>0.654</td>\n",
       "      <td>0.185</td>\n",
       "      <td>-0.0000</td>\n",
       "      <td>56362</td>\n",
       "      <td>2021-03-09 16:50:35+00:00</td>\n",
       "      <td>https://twitter.com/barr3aby</td>\n",
       "      <td>Hold @Sofina_Foods and Brussels Transport acco...</td>\n",
       "      <td>NaN</td>\n",
       "      <td>NaN</td>\n",
       "      <td>NaN</td>\n",
       "      <td>negative</td>\n",
       "      <td>0.309462</td>\n",
       "    </tr>\n",
       "  </tbody>\n",
       "</table>\n",
       "</div>"
      ],
      "text/plain": [
       "       Unnamed: 0         username    neg    neu    pos  compound  \\\n",
       "39606       39606  AnimalProjectGE  0.253  0.648  0.099   -0.5423   \n",
       "49394       49394        omventure  0.000  0.732  0.268    0.8555   \n",
       "4370         4370        joe8Zeta7  0.000  0.709  0.291    0.7901   \n",
       "27233       27233      SilentBawse  0.357  0.607  0.036   -0.9725   \n",
       "17641       17641   EnviroEdgeNews  0.257  0.595  0.148   -0.5574   \n",
       "8246         8246   Animal_Posting  0.060  0.826  0.114    0.3400   \n",
       "80200       80200  criticalviews20  0.126  0.667  0.207    0.2960   \n",
       "16191       16191        aktweet20  0.180  0.711  0.109   -0.3612   \n",
       "55197       55197        veganrick  0.000  0.931  0.069    0.4404   \n",
       "78347       78347         barr3aby  0.161  0.654  0.185   -0.0000   \n",
       "\n",
       "       Unnamed: 0.1                       date  \\\n",
       "39606         13717  2022-03-28 19:24:13+00:00   \n",
       "49394         11432  2022-04-17 04:52:08+00:00   \n",
       "4370          20059  2022-02-03 20:10:24+00:00   \n",
       "27233           818  2022-07-25 05:42:59+00:00   \n",
       "17641         54694  2021-03-23 18:28:24+00:00   \n",
       "8246          71180  2020-11-16 16:32:12+00:00   \n",
       "80200         60800  2021-02-06 03:19:40+00:00   \n",
       "16191          7234  2022-05-24 13:46:53+00:00   \n",
       "55197         41254  2021-07-16 03:59:18+00:00   \n",
       "78347         56362  2021-03-09 16:50:35+00:00   \n",
       "\n",
       "                                      user  \\\n",
       "39606  https://twitter.com/AnimalProjectGE   \n",
       "49394        https://twitter.com/omventure   \n",
       "4370         https://twitter.com/joe8Zeta7   \n",
       "27233      https://twitter.com/SilentBawse   \n",
       "17641   https://twitter.com/EnviroEdgeNews   \n",
       "8246    https://twitter.com/Animal_Posting   \n",
       "80200  https://twitter.com/criticalviews20   \n",
       "16191        https://twitter.com/aktweet20   \n",
       "55197        https://twitter.com/veganrick   \n",
       "78347         https://twitter.com/barr3aby   \n",
       "\n",
       "                                              tweet_text  \\\n",
       "39606  What a day for #straydogs in #Zugdidi 🇬🇪 aband...   \n",
       "49394  \"Pain, suffering, grief…can be experienced by ...   \n",
       "4370   Speak Out Against Plans for an Intensive Chick...   \n",
       "27233  According to #AnimalRights scheme there isn't ...   \n",
       "17641  DEMAND DEFORESTATION-FREE OLYMPICS! Tokyo Olym...   \n",
       "8246   I think #vegetarians who live according to alt...   \n",
       "80200  Truly disgusted by @VVD , \\n\\n#AnimalXXX = 🤢🐖🤢...   \n",
       "16191  The time for Congress to act on horse soring, ...   \n",
       "55197  Endangered Elk Starve While the National Park ...   \n",
       "78347  Hold @Sofina_Foods and Brussels Transport acco...   \n",
       "\n",
       "                        Location coordinates  Unnamed: 7 Sentiment     Score  \n",
       "39606           Tbilisi, Georgia         NaN         NaN  negative  0.290977  \n",
       "49394  A Planet Needing Our Help         NaN         NaN  negative  0.272314  \n",
       "4370                      Italia         NaN         NaN   neutral  0.589853  \n",
       "27233            Punjab/Pakistan         NaN         NaN  negative  0.365839  \n",
       "17641                        NaN         NaN         NaN   neutral  0.507675  \n",
       "8246                         NaN         NaN         NaN  positive  0.894057  \n",
       "80200         Davos, Switzerland         NaN         NaN  positive  0.725126  \n",
       "16191                        NaN         NaN         NaN  positive  0.623726  \n",
       "55197                   Canada🇨🇦         NaN         NaN  positive  0.656538  \n",
       "78347                        NaN         NaN         NaN  negative  0.309462  "
      ]
     },
     "execution_count": 3,
     "metadata": {},
     "output_type": "execute_result"
    }
   ],
   "source": [
    "csv_reg.sample(10)"
   ]
  },
  {
   "cell_type": "code",
   "execution_count": 4,
   "id": "9254288a",
   "metadata": {},
   "outputs": [],
   "source": [
    "features=['neg','neu','pos','compound']\n",
    "features_azure=['Score']\n",
    "target_label='Sentiment'\n",
    "target_label1='Sentiment'"
   ]
  },
  {
   "cell_type": "code",
   "execution_count": 5,
   "id": "03b7420a",
   "metadata": {},
   "outputs": [
    {
     "name": "stdout",
     "output_type": "stream",
     "text": [
      "Training Set : 62999, Test Set : 27001 \n",
      "\n"
     ]
    }
   ],
   "source": [
    "senti_x,senti_y=csv_reg[features].values,csv_reg[target_label].values\n",
    "\n",
    "x_train,x_test,y_train,y_test=train_test_split(senti_x, senti_y, train_size=0.7,random_state=0,stratify=senti_y)\n",
    "print('Training Set : %d, Test Set : %d \\n'%(x_train.shape[0],x_test.shape[0]))"
   ]
  },
  {
   "cell_type": "code",
   "execution_count": 6,
   "id": "b2fed49e",
   "metadata": {},
   "outputs": [
    {
     "data": {
      "text/plain": [
       "RandomForestClassifier(n_estimators=50)"
      ]
     },
     "execution_count": 6,
     "metadata": {},
     "output_type": "execute_result"
    }
   ],
   "source": [
    "#create the gaussian classifier for vader sentiment analysis\n",
    "clf=RandomForestClassifier(n_estimators=50)\n",
    "\n",
    "#Train the model\n",
    "clf.fit(x_train,y_train)"
   ]
  },
  {
   "cell_type": "code",
   "execution_count": 7,
   "id": "e24d48da",
   "metadata": {},
   "outputs": [],
   "source": [
    "#add the test data\n",
    "Y_pred=clf.predict(x_test)"
   ]
  },
  {
   "cell_type": "code",
   "execution_count": 8,
   "id": "604e3811",
   "metadata": {},
   "outputs": [
    {
     "name": "stdout",
     "output_type": "stream",
     "text": [
      "Accuracy Score of the vader predictive model is: 0.4736861597718603\n"
     ]
    }
   ],
   "source": [
    "from sklearn.metrics import accuracy_score\n",
    "\n",
    "print('Accuracy Score of the vader predictive model is:',accuracy_score(Y_pred,y_test))"
   ]
  },
  {
   "cell_type": "code",
   "execution_count": 9,
   "id": "e08da064",
   "metadata": {},
   "outputs": [
    {
     "name": "stdout",
     "output_type": "stream",
     "text": [
      "Training Set : 62999, Test Set : 27001 \n",
      "\n"
     ]
    }
   ],
   "source": [
    "azure_x=csv_reg[features_azure].values\n",
    "azure_y=csv_reg[target_label1].values\n",
    "x_train_azure,x_test_azure,y_train_azure,y_test_azure=train_test_split(azure_x,azure_y,train_size=0.7,random_state=0,stratify=senti_y)\n",
    "print('Training Set : %d, Test Set : %d \\n'%(x_train_azure.shape[0],x_test_azure.shape[0]))"
   ]
  },
  {
   "cell_type": "code",
   "execution_count": 10,
   "id": "9d9b9b3b",
   "metadata": {},
   "outputs": [
    {
     "data": {
      "text/plain": [
       "RandomForestClassifier(n_estimators=300)"
      ]
     },
     "execution_count": 10,
     "metadata": {},
     "output_type": "execute_result"
    }
   ],
   "source": [
    "#create the gaussian classifier for vader sentiment analysis\n",
    "clfazure=RandomForestClassifier(n_estimators=300)\n",
    "\n",
    "#Train the Model\n",
    "clfazure.fit(x_train_azure,y_train_azure)"
   ]
  },
  {
   "cell_type": "code",
   "execution_count": 11,
   "id": "ba3abd8e",
   "metadata": {},
   "outputs": [],
   "source": [
    "Y_Pred_azure=clfazure.predict(x_test_azure)"
   ]
  },
  {
   "cell_type": "code",
   "execution_count": 12,
   "id": "09229234",
   "metadata": {},
   "outputs": [
    {
     "name": "stdout",
     "output_type": "stream",
     "text": [
      "Accuracy Score of the Azure predictive model is: 1.0\n",
      "\n",
      " Overall precision score of the model is: 1.0\n",
      "\n",
      " Overall recall score of the model is: 1.0\n",
      "\n",
      "               precision    recall  f1-score   support\n",
      "\n",
      "    negative       1.00      1.00      1.00     10440\n",
      "     neutral       1.00      1.00      1.00      6510\n",
      "    positive       1.00      1.00      1.00     10051\n",
      "\n",
      "    accuracy                           1.00     27001\n",
      "   macro avg       1.00      1.00      1.00     27001\n",
      "weighted avg       1.00      1.00      1.00     27001\n",
      "\n"
     ]
    }
   ],
   "source": [
    "from sklearn.metrics import precision_score,recall_score\n",
    "from sklearn.metrics import classification_report\n",
    "print('Accuracy Score of the Azure predictive model is:',accuracy_score(y_test_azure,Y_Pred_azure))\n",
    "print('\\n Overall precision score of the model is:',precision_score(y_test_azure,Y_Pred_azure,average='macro'))\n",
    "print('\\n Overall recall score of the model is:',recall_score(y_test_azure,Y_Pred_azure,average='macro'))\n",
    "\n",
    "print('\\n', classification_report(y_test_azure,Y_Pred_azure))"
   ]
  },
  {
   "cell_type": "code",
   "execution_count": 13,
   "id": "9bf64a5f",
   "metadata": {},
   "outputs": [
    {
     "name": "stdout",
     "output_type": "stream",
     "text": [
      "Accuracy Score of the vader predictive model is: 0.4736861597718603\n",
      "\n",
      " Overall precision score of the model is: 0.44271851470876705\n",
      "\n",
      " Overall recall score of the model is: 0.4543617119106747\n",
      "\n",
      "               precision    recall  f1-score   support\n",
      "\n",
      "    negative       0.54      0.50      0.52     11196\n",
      "     neutral       0.22      0.39      0.28      3653\n",
      "    positive       0.57      0.47      0.52     12152\n",
      "\n",
      "    accuracy                           0.47     27001\n",
      "   macro avg       0.44      0.45      0.44     27001\n",
      "weighted avg       0.51      0.47      0.49     27001\n",
      "\n",
      "\n",
      " [[5646 2351 3199]\n",
      " [1115 1415 1123]\n",
      " [3679 2744 5729]]\n"
     ]
    }
   ],
   "source": [
    "from sklearn.metrics import confusion_matrix\n",
    "print('Accuracy Score of the vader predictive model is:',accuracy_score(Y_pred,y_test))\n",
    "print('\\n Overall precision score of the model is:',precision_score(Y_pred,y_test,average='macro'))\n",
    "print('\\n Overall recall score of the model is:',recall_score(Y_pred,y_test,average='macro'))\n",
    "\n",
    "print('\\n', classification_report(Y_pred,y_test))\n",
    "\n",
    "mcm_vader=confusion_matrix(Y_pred,y_test)\n",
    "\n",
    "print('\\n',mcm_vader)\n",
    "\n",
    "vader_classes=['positive','negative','neutral']\n"
   ]
  },
  {
   "cell_type": "code",
   "execution_count": 14,
   "id": "804a515d",
   "metadata": {},
   "outputs": [
    {
     "data": {
      "image/png": "[encoded data removed]",
      "text/plain": [
       "<Figure size 432x288 with 2 Axes>"
      ]
     },
     "metadata": {
      "needs_background": "light"
     },
     "output_type": "display_data"
    }
   ],
   "source": [
    "import numpy as np\n",
    "import matplotlib.pyplot as plt\n",
    "%matplotlib inline\n",
    "plt.imshow(mcm_vader, interpolation=\"nearest\",cmap=plt.cm.Blues)\n",
    "plt.colorbar()\n",
    "tick_marks=np.arange(len(vader_classes))\n",
    "plt.xticks(tick_marks,vader_classes,rotation=45)\n",
    "plt.yticks(tick_marks,vader_classes)\n",
    "plt.xlabel(\"Predicted Sentiments\")\n",
    "plt.ylabel(\"Actual Sentiments\")\n",
    "plt.show()"
   ]
  },
  {
   "cell_type": "code",
   "execution_count": 15,
   "id": "c3ab5650",
   "metadata": {},
   "outputs": [],
   "source": [
    "from sklearn.linear_model import LogisticRegression\n",
    "logisvader=LogisticRegression()\n",
    "\n",
    "logisvader.fit(x_train,y_train)\n",
    "\n",
    "Y_pred_vad_log=logisvader.predict(x_test)"
   ]
  },
  {
   "cell_type": "code",
   "execution_count": 16,
   "id": "b648d957",
   "metadata": {},
   "outputs": [
    {
     "name": "stdout",
     "output_type": "stream",
     "text": [
      "Accuracy Score of the vader Logistic predictive model is: 0.4306136809747787\n",
      "\n",
      " Overall precision score of the model is: 0.3790631699151696\n"
     ]
    },
    {
     "name": "stderr",
     "output_type": "stream",
     "text": [
      "C:\\Users\\ASUS\\anaconda3\\lib\\site-packages\\sklearn\\metrics\\_classification.py:1248: UndefinedMetricWarning: Recall is ill-defined and being set to 0.0 in labels with no true samples. Use `zero_division` parameter to control this behavior.\n",
      "  _warn_prf(average, modifier, msg_start, len(result))\n"
     ]
    },
    {
     "name": "stdout",
     "output_type": "stream",
     "text": [
      "\n",
      " Overall recall score of the model is: 0.28808525150769154\n"
     ]
    },
    {
     "name": "stderr",
     "output_type": "stream",
     "text": [
      "C:\\Users\\ASUS\\anaconda3\\lib\\site-packages\\sklearn\\metrics\\_classification.py:1248: UndefinedMetricWarning: Recall and F-score are ill-defined and being set to 0.0 in labels with no true samples. Use `zero_division` parameter to control this behavior.\n",
      "  _warn_prf(average, modifier, msg_start, len(result))\n",
      "C:\\Users\\ASUS\\anaconda3\\lib\\site-packages\\sklearn\\metrics\\_classification.py:1248: UndefinedMetricWarning: Recall and F-score are ill-defined and being set to 0.0 in labels with no true samples. Use `zero_division` parameter to control this behavior.\n",
      "  _warn_prf(average, modifier, msg_start, len(result))\n",
      "C:\\Users\\ASUS\\anaconda3\\lib\\site-packages\\sklearn\\metrics\\_classification.py:1248: UndefinedMetricWarning: Recall and F-score are ill-defined and being set to 0.0 in labels with no true samples. Use `zero_division` parameter to control this behavior.\n",
      "  _warn_prf(average, modifier, msg_start, len(result))\n"
     ]
    },
    {
     "name": "stdout",
     "output_type": "stream",
     "text": [
      "\n",
      "               precision    recall  f1-score   support\n",
      "\n",
      "    negative       0.51      0.44      0.47     11892\n",
      "     neutral       0.00      0.00      0.00         0\n",
      "    positive       0.63      0.42      0.50     15109\n",
      "\n",
      "    accuracy                           0.43     27001\n",
      "   macro avg       0.38      0.29      0.33     27001\n",
      "weighted avg       0.58      0.43      0.49     27001\n",
      "\n"
     ]
    }
   ],
   "source": [
    "print('Accuracy Score of the vader Logistic predictive model is:',accuracy_score(Y_pred_vad_log,y_test))\n",
    "print('\\n Overall precision score of the model is:',precision_score(Y_pred_vad_log,y_test,average='macro'))\n",
    "print('\\n Overall recall score of the model is:',recall_score(Y_pred_vad_log,y_test,average='macro'))\n",
    "\n",
    "print('\\n', classification_report(Y_pred_vad_log,y_test))\n",
    "\n",
    "mcm_vader=confusion_matrix(Y_pred_vad_log,y_test)\n"
   ]
  },
  {
   "cell_type": "code",
   "execution_count": 17,
   "id": "ef321bbd",
   "metadata": {},
   "outputs": [
    {
     "data": {
      "text/plain": [
       "LogisticRegression()"
      ]
     },
     "execution_count": 17,
     "metadata": {},
     "output_type": "execute_result"
    }
   ],
   "source": [
    "logisazure=LogisticRegression()\n",
    "logisazure.fit(x_train_azure,y_train_azure)"
   ]
  },
  {
   "cell_type": "code",
   "execution_count": 18,
   "id": "025a5741",
   "metadata": {},
   "outputs": [],
   "source": [
    "y_pred_azure_log=logisazure.predict(x_test_azure)"
   ]
  },
  {
   "cell_type": "code",
   "execution_count": 19,
   "id": "abbd7e2f",
   "metadata": {},
   "outputs": [
    {
     "name": "stdout",
     "output_type": "stream",
     "text": [
      "Accuracy Score of the Azure Logistic predictive model is: 0.9957038628198955\n",
      "\n",
      " Overall precision score of the model is: 0.9962419248041883\n",
      "\n",
      " Overall recall score of the model is: 0.9941644028574302\n"
     ]
    },
    {
     "name": "stderr",
     "output_type": "stream",
     "text": [
      "C:\\Users\\ASUS\\anaconda3\\lib\\site-packages\\sklearn\\metrics\\_classification.py:1248: UndefinedMetricWarning: Recall and F-score are ill-defined and being set to 0.0 in labels with no true samples. Use `zero_division` parameter to control this behavior.\n",
      "  _warn_prf(average, modifier, msg_start, len(result))\n",
      "C:\\Users\\ASUS\\anaconda3\\lib\\site-packages\\sklearn\\metrics\\_classification.py:1248: UndefinedMetricWarning: Recall and F-score are ill-defined and being set to 0.0 in labels with no true samples. Use `zero_division` parameter to control this behavior.\n",
      "  _warn_prf(average, modifier, msg_start, len(result))\n",
      "C:\\Users\\ASUS\\anaconda3\\lib\\site-packages\\sklearn\\metrics\\_classification.py:1248: UndefinedMetricWarning: Recall and F-score are ill-defined and being set to 0.0 in labels with no true samples. Use `zero_division` parameter to control this behavior.\n",
      "  _warn_prf(average, modifier, msg_start, len(result))\n"
     ]
    },
    {
     "name": "stdout",
     "output_type": "stream",
     "text": [
      "\n",
      "               precision    recall  f1-score   support\n",
      "\n",
      "    negative       0.51      0.44      0.47     11892\n",
      "     neutral       0.00      0.00      0.00         0\n",
      "    positive       0.63      0.42      0.50     15109\n",
      "\n",
      "    accuracy                           0.43     27001\n",
      "   macro avg       0.38      0.29      0.33     27001\n",
      "weighted avg       0.58      0.43      0.49     27001\n",
      "\n"
     ]
    }
   ],
   "source": [
    "print('Accuracy Score of the Azure Logistic predictive model is:',accuracy_score(y_pred_azure_log,y_test_azure))\n",
    "print('\\n Overall precision score of the model is:',precision_score(y_pred_azure_log,y_test_azure,average='macro'))\n",
    "print('\\n Overall recall score of the model is:',recall_score(y_pred_azure_log,y_test_azure,average='macro'))\n",
    "\n",
    "print('\\n', classification_report(Y_pred_vad_log,y_test_azure))\n",
    "\n",
    "mcm_vader=confusion_matrix(Y_pred_vad_log,y_test_azure)"
   ]
  },
  {
   "cell_type": "code",
   "execution_count": null,
   "id": "9c5a6172",
   "metadata": {},
   "outputs": [],
   "source": []
  }
 ],
 "metadata": {
  "kernelspec": {
   "display_name": "Python 3 (ipykernel)",
   "language": "python",
   "name": "python3"
  },
  "language_info": {
   "codemirror_mode": {
    "name": "ipython",
    "version": 3
   },
   "file_extension": ".py",
   "mimetype": "text/x-python",
   "name": "python",
   "nbconvert_exporter": "python",
   "pygments_lexer": "ipython3",
   "version": "3.9.7"
  }
 },
 "nbformat": 4,
 "nbformat_minor": 5
}
